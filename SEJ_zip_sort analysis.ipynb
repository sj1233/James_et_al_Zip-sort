{
 "cells": [
  {
   "cell_type": "markdown",
   "metadata": {},
   "source": [
    "For a full description and infographic of the shunPykeR pipeline, please check the Github repository main page (https://github.com/kousaa/shunPykeR)."
   ]
  },
  {
   "cell_type": "markdown",
   "metadata": {},
   "source": [
    "<a id='contents'></a>"
   ]
  },
  {
   "cell_type": "markdown",
   "metadata": {},
   "source": [
    "##### Notebook setup"
   ]
  },
  {
   "cell_type": "markdown",
   "metadata": {},
   "source": [
    "Load python packages and modules that are used across this notebook. For an introduction to python packages and modules, please see https://realpython.com/python-modules-packages/#python-packages.    "
   ]
  },
  {
   "cell_type": "code",
   "execution_count": null,
   "metadata": {},
   "outputs": [],
   "source": [
    "import scanpy as sc\n",
    "import scanpy.external as sce\n",
    "#import scvelo as scv\n",
    "import numpy as np\n",
    "import pandas as pd\n",
    "import warnings, scipy.sparse as sp, matplotlib, matplotlib.pyplot as plt\n",
    "from matplotlib.colors import LinearSegmentedColormap\n",
    "from matplotlib.pyplot import rc_context\n",
    "from collections import Counter\n",
    "from pathlib import Path\n",
    "from sklearn.metrics.pairwise import cosine_distances\n",
    "#from mousipy import translate\n",
    "\n",
    "import matplotlib.font_manager\n",
    "#import openpyxl\n",
    "#import pyreadr\n",
    "#import rpy2\n",
    "#from rpy2.robjects.packages import importr\n",
    "#import rpy2.robjects as robjects\n",
    "#import seaborn as sns\n",
    "#import palantir\n",
    "#import loompy\n",
    "#import feather\n",
    "import re\n",
    "#from scipy.sparse import csgraph\n",
    "\n",
    "matplotlib.rcParams['pdf.fonttype'] = 42\n",
    "matplotlib.rcParams['ps.fonttype'] = 42\n",
    "matplotlib.rcParams['font.family'] = 'sans-serif'\n",
    "matplotlib.rcParams['font.sans-serif'] = 'Arial'\n",
    "matplotlib.rc('font', size=14)\n",
    "import matplotlib.lines as lines\n",
    "\n",
    "sc.set_figure_params(dpi=80, dpi_save=300, color_map='Spectral_r', vector_friendly=True, transparent=True)\n",
    "sc.settings.verbosity = 3 # verbosity: errors (0), warnings (1), info (2), hints (3)\n",
    "sc.logging.print_header()\n",
    "\n",
    "#scv.set_figure_params(dpi=80, dpi_save=300, color_map='viridis', vector_friendly=True, transparent=True, format='pdf')\n",
    "\n",
    "pd.set_option('display.max_rows', 200)"
   ]
  },
  {
   "cell_type": "code",
   "execution_count": null,
   "metadata": {},
   "outputs": [],
   "source": [
    "def observe_variance(anndata_object):\n",
    "    fig = plt.figure(figsize=(10,5))\n",
    "    ax1 = fig.add_subplot(121)\n",
    "    ax2 = fig.add_subplot(122)\n",
    "    # variance per principal component\n",
    "    x = range(len(anndata_object.uns['pca']['variance_ratio']))\n",
    "    y = anndata_object.uns['pca']['variance_ratio']\n",
    "    ax1.scatter(x,y,s=4)\n",
    "    ax1.set_xlabel('PC')\n",
    "    ax1.set_ylabel('Fraction of variance explained\\n')\n",
    "    ax1.set_title('Fraction of variance explained per PC\\n')\n",
    "    # cumulative variance explained\n",
    "    cml_var_explained = np.cumsum(anndata_object.uns['pca']['variance_ratio'])\n",
    "    x = range(len(anndata_object.uns['pca']['variance_ratio']))\n",
    "    y = cml_var_explained\n",
    "    ax2.scatter(x,y,s=4)\n",
    "    ax2.set_xlabel('PC')\n",
    "    ax2.set_ylabel('Cumulative fraction of variance\\nexplained')\n",
    "    ax2.set_title('Cumulative fraction of variance\\nexplained by PCs')\n",
    "    fig.tight_layout()\n",
    "    plot = plt.show\n",
    "    return(plot)"
   ]
  },
  {
   "cell_type": "code",
   "execution_count": null,
   "metadata": {},
   "outputs": [],
   "source": [
    "\n",
    "#!{sys.executable} -m pip install xlsxwriter\n",
    "#!{sys.executable} -m pip install rpy2\n",
    "import xlsxwriter\n",
    "import rpy2"
   ]
  },
  {
   "cell_type": "code",
   "execution_count": null,
   "metadata": {},
   "outputs": [],
   "source": [
    "import os\n",
    "\n",
    "os.environ['R_HOME'] = '/Library/Frameworks/R.framework/Resources'"
   ]
  },
  {
   "cell_type": "code",
   "execution_count": null,
   "metadata": {},
   "outputs": [],
   "source": [
    "%load_ext rpy2.ipython\n",
    "\n",
    "%R if (!require(\"pacman\")) install.packages(\"pacman\")\n",
    "%R pacman::p_load(MAST, scales, data.table, openxlsx, ggplot2, ggpubr, RColorBrewer, dichromat, readxl, ggpubr, pheatmap, dplyr, arrow, feather, DelayedArray, HDF5Array, stringr, parallel)"
   ]
  },
  {
   "cell_type": "markdown",
   "metadata": {},
   "source": [
    "`%matplotlib inline` is a magic command that renders the figures within the notebook. For more information regarding python's magic operators, see https://ipython.readthedocs.io/en/stable/interactive/magics.html."
   ]
  },
  {
   "cell_type": "code",
   "execution_count": null,
   "metadata": {},
   "outputs": [],
   "source": [
    "%matplotlib inline "
   ]
  },
  {
   "cell_type": "markdown",
   "metadata": {},
   "source": [
    "To get you started in a visually pleasing way, here are some manually curated color palettes. Feel free to use the ones provided here, the python predefined ones here (https://matplotlib.org/stable/tutorials/colors/colormaps.html) or make up your own."
   ]
  },
  {
   "cell_type": "code",
   "execution_count": null,
   "metadata": {},
   "outputs": [],
   "source": [
    "# divergent\n",
    "user_defined_palette =  [ '#3283FE', '#16FF32', '#F6222E',  '#FEAF16', '#BDCDFF', '#3B00FB', '#1CFFCE', '#C075A6', '#F8A19F', '#B5EFB5', '#FBE426', '#C4451C', '#2ED9FF', '#c1c119', '#8b0000', '#FE00FA', '#1CBE4F', '#1C8356', '#0e452b', '#AA0DFE', '#B5EFB5', '#325A9B', '#90AD1C']\n",
    "# gradient of one color\n",
    "user_defined_cmap_markers = LinearSegmentedColormap.from_list('mycmap', [\"#E6E6FF\", \"#CCCCFF\", \"#B2B2FF\", \"#9999FF\",  \"#6666FF\",   \"#3333FF\", \"#0000FF\"])\n",
    "# gradient of two colors\n",
    "user_defined_cmap_degs = LinearSegmentedColormap.from_list('mycmap', [\"#0000FF\", \"#3333FF\", \"#6666FF\", \"#9999FF\", \"#B2B2FF\", \"#CCCCFF\", \"#E6E6FF\", \"#E6FFE6\", \"#CCFFCC\", \"#B2FFB2\", \"#99FF99\", \"#66FF66\", \"#33FF33\", \"#00FF00\"])"
   ]
  },
  {
   "cell_type": "markdown",
   "metadata": {},
   "source": [
    "💡 **Hint:** Use the code below ONLY if you need to install extra packages"
   ]
  },
  {
   "cell_type": "code",
   "execution_count": null,
   "metadata": {},
   "outputs": [],
   "source": [
    "# import sys\n",
    "# !{sys.executable} -m pip install scrublet"
   ]
  },
  {
   "cell_type": "markdown",
   "metadata": {},
   "source": [
    "Return to the beginning of this notebook <a href='#contents'>here</a>."
   ]
  },
  {
   "cell_type": "markdown",
   "metadata": {},
   "source": [
    "<a id='QC'></a>"
   ]
  },
  {
   "cell_type": "markdown",
   "metadata": {},
   "source": [
    "## Perform quality control and clean-up samples"
   ]
  },
  {
   "cell_type": "markdown",
   "metadata": {},
   "source": [
    "### Load cellranger files"
   ]
  },
  {
   "cell_type": "markdown",
   "metadata": {},
   "source": [
    "Start by converting any cellranger's (https://support.10xgenomics.com/single-cell-gene-expression/software/pipelines/latest/output/overview) Hierarchical Data Format 5 (H5 or h5) files into a scRNA-seq friendly python object called an anndata object. This object can store different types of information under its multiple compartments. For a more detailed explanation, see https://anndata.readthedocs.io/en/latest/anndata.AnnData.html#anndata.AnnData. \n",
    "\n",
    "The example below uses Peripheral Blood Mononuclear Cells (PBMCs) datasets from the 10x Genomics public repository, processed with cellranger v2 [⬇️](https://cf.10xgenomics.com/samples/cell-exp/3.0.0/pbmc_1k_v2/pbmc_1k_v2_filtered_feature_bc_matrix.h5) and v3 [⬇️](https://cf.10xgenomics.com/samples/cell-exp/3.0.0/pbmc_1k_v3/pbmc_1k_v3_filtered_feature_bc_matrix.h5) to perform a mock analysis)."
   ]
  },
  {
   "cell_type": "markdown",
   "metadata": {},
   "source": [
    "✍️ Provide the path to your cellranger's `filtered_feature_bc.h5` files in the `tenexdir` row below. The code will search that directory and store all h5 files in a python [list](https://realpython.com/python-lists-tuples/), names here `adatas_list` as it contains multiple adata (short for anndata) objects."
   ]
  },
  {
   "cell_type": "code",
   "execution_count": null,
   "metadata": {},
   "outputs": [],
   "source": [
    "# adatas_list=[]\n",
    "\n",
    "# tenexdir = '../Project_15143_B/'\n",
    "\n",
    "\n",
    "dual_CAR_1 = sc.read_10x_h5('../Project_15143_B/CI1-1/CI1-1a/sample_filtered_feature_bc_matrix.h5')\n",
    "dual_CAR_2 = sc.read_10x_h5('../Project_15143_B/CI1-2/CI1-2a/sample_filtered_feature_bc_matrix.h5')\n",
    "dual_CAR_dual_switch_1 = sc.read_10x_h5('../Project_15143_B/CI1-1/CI1-1b/sample_filtered_feature_bc_matrix.h5')\n",
    "dual_CAR_dual_switch_2 = sc.read_10x_h5('../Project_15143_B/CI1-2/CI1-2b/sample_filtered_feature_bc_matrix.h5')\n",
    "dual_CAR_triple_switch_1 = sc.read_10x_h5('../Project_15143_B/CI1-1/CI1-1c/sample_filtered_feature_bc_matrix.h5')\n",
    "dual_CAR_triple_switch_2 = sc.read_10x_h5('../Project_15143_B/CI1-2/CI1-2c/sample_filtered_feature_bc_matrix.h5')\n",
    "\n",
    "dual_CAR_1.var_names_make_unique()\n",
    "dual_CAR_2.var_names_make_unique()\n",
    "dual_CAR_dual_switch_1.var_names_make_unique()\n",
    "dual_CAR_dual_switch_2.var_names_make_unique()\n",
    "dual_CAR_triple_switch_1.var_names_make_unique()\n",
    "dual_CAR_triple_switch_2.var_names_make_unique()\n",
    "\n",
    "\n",
    "\n",
    "# a for loop to read and store all .h5 files under the tenexdir path\n",
    "# for path in h5_path:\n",
    "#     tmp_adata = sc.read_10x_h5(path)\n",
    "#     tmp_adata.var_names_make_unique()\n",
    "#     print(tmp_adata.shape) # check the number of cells and genes in each sample\n",
    "#     adatas_list.append(tmp_adata)"
   ]
  },
  {
   "cell_type": "code",
   "execution_count": null,
   "metadata": {},
   "outputs": [],
   "source": [
    "dual_CAR_1.obs['sample']='Dual_CAR'\n",
    "dual_CAR_2.obs['sample']='Dual_CAR'\n",
    "dual_CAR_dual_switch_1.obs['sample']='Dual_CAR_dual_switch'\n",
    "dual_CAR_dual_switch_2.obs['sample']='Dual_CAR_dual_switch'\n",
    "dual_CAR_triple_switch_1.obs['sample']='Dual_CAR_triple_switch'\n",
    "dual_CAR_triple_switch_2.obs['sample']='Dual_CAR_triple_switch'\n",
    "\n",
    "dual_CAR_1.obs['replicate']='Dual_CAR_1'\n",
    "dual_CAR_2.obs['replicate']='Dual_CAR_2'\n",
    "dual_CAR_dual_switch_1.obs['replicate']='Dual_CAR_dual_switch_1'\n",
    "dual_CAR_dual_switch_2.obs['replicate']='Dual_CAR_dual_switch_2'\n",
    "dual_CAR_triple_switch_1.obs['replicate']='Dual_CAR_triple_switch_1'\n",
    "dual_CAR_triple_switch_2.obs['replicate']='Dual_CAR_triple_switch_2'"
   ]
  },
  {
   "cell_type": "code",
   "execution_count": null,
   "metadata": {},
   "outputs": [],
   "source": [
    "dual_CAR_dual_switch_1.obs"
   ]
  },
  {
   "cell_type": "markdown",
   "metadata": {},
   "source": [
    "✍️ The next command will take as input the various anndata objects that have been created above, concatenate them and create a metadata field using the `label` field. Use then the `keys` field to annotate each sample accordingly. The order of the samples is defined by the order that the h5 files are stored in the function above."
   ]
  },
  {
   "cell_type": "code",
   "execution_count": null,
   "metadata": {},
   "outputs": [],
   "source": [
    "dual_CAR_concat = sc.concat(\n",
    "    (dual_CAR_1, dual_CAR_2),\n",
    "    join='outer', \n",
    "    label = 'replicate', \n",
    "    keys = ['dual_CAR_1', 'dual_CAR_2'],\n",
    "    index_unique = '@'\n",
    ")"
   ]
  },
  {
   "cell_type": "code",
   "execution_count": null,
   "metadata": {},
   "outputs": [],
   "source": [
    "dual_CAR_concat.obs"
   ]
  },
  {
   "cell_type": "code",
   "execution_count": null,
   "metadata": {},
   "outputs": [],
   "source": [
    "dual_CAR_dual_switch_concat = sc.concat(\n",
    "    (dual_CAR_dual_switch_1, dual_CAR_dual_switch_2),\n",
    "    join='outer', \n",
    "    label = 'replicate', \n",
    "    keys = ['dual_CAR_dual_switch_1', 'dual_CAR_dual_switch_2'],\n",
    "    index_unique = '@'\n",
    ")"
   ]
  },
  {
   "cell_type": "code",
   "execution_count": null,
   "metadata": {},
   "outputs": [],
   "source": [
    "dual_CAR_dual_switch_concat.obs"
   ]
  },
  {
   "cell_type": "code",
   "execution_count": null,
   "metadata": {},
   "outputs": [],
   "source": [
    "dual_CAR_triple_switch_concat = sc.concat(\n",
    "    (dual_CAR_triple_switch_1, dual_CAR_triple_switch_2),\n",
    "    join='outer', \n",
    "    label = 'replicate', \n",
    "    keys = ['dual_CAR_triple_switch_1', 'dual_CAR_triple_switch_2'],\n",
    "    index_unique = '@'\n",
    ")"
   ]
  },
  {
   "cell_type": "code",
   "execution_count": null,
   "metadata": {},
   "outputs": [],
   "source": [
    "dual_CAR_triple_switch_concat.obs"
   ]
  },
  {
   "cell_type": "code",
   "execution_count": null,
   "metadata": {},
   "outputs": [],
   "source": [
    "adata = sc.concat(\n",
    "    (dual_CAR_concat, dual_CAR_dual_switch_concat, dual_CAR_triple_switch_concat),\n",
    "    join='outer', \n",
    "    label = 'sample', \n",
    "    keys = ['dual_CAR_concat', 'dual_CAR_dual_switch_concat', 'dual_CAR_triple_switch_concat'],\n",
    "    index_unique = '@'\n",
    ")"
   ]
  },
  {
   "cell_type": "code",
   "execution_count": null,
   "metadata": {},
   "outputs": [],
   "source": [
    "adata.obs"
   ]
  },
  {
   "cell_type": "code",
   "execution_count": null,
   "metadata": {},
   "outputs": [],
   "source": [
    "adata.raw = adata # keep a copy of the raw adata \n",
    "np.random.seed(42) \n",
    "index_list = np.arange(adata.shape[0]) # randomize the order of cells for plotting\n",
    "np.random.shuffle(index_list)\n",
    "adata = adata[index_list]"
   ]
  },
  {
   "cell_type": "markdown",
   "metadata": {},
   "source": [
    "Once you execute either of the input commands above, you should be able to access:\n",
    "- gene names: type `adata.var` + click `Run`\n",
    "- cell index and other annotation: type `adata.obs` + click `Run`\n",
    "- total number of cells (x, ) and genes ( ,y): type `adata.shape` + click `Run`\n",
    "\n",
    "❗ The latter one is a good sanity check especially after filtering steps to make sure the filters have been applied properly. "
   ]
  },
  {
   "cell_type": "code",
   "execution_count": null,
   "metadata": {},
   "outputs": [],
   "source": [
    "adata.shape"
   ]
  },
  {
   "cell_type": "markdown",
   "metadata": {},
   "source": [
    "### Calculate quality control metrics and perform standard clean-up"
   ]
  },
  {
   "cell_type": "markdown",
   "metadata": {},
   "source": [
    "We will now calculate some standard quality control (QC) metrics using the `calculate_qc_metrics` function that is provided by scanpy. These metrics include total counts, total number of genes, ribosomal, mitochondrial and hemoglobin fractions on a per cell basis. Summarized violin plots of these metrics can be also visualized below on a per sample basis."
   ]
  },
  {
   "cell_type": "code",
   "execution_count": null,
   "metadata": {},
   "outputs": [],
   "source": [
    "sc.pp.calculate_qc_metrics(adata, inplace=True)\n",
    "\n",
    "#store unfiltered/unprocessed data into new fields prior to downstream analysis\n",
    "adata.obs['original_total_counts'] = adata.obs['total_counts']\n",
    "adata.obs['log10_original_total_counts'] = np.log10(adata.obs['original_total_counts'])\n",
    "\n",
    "# select mitochondrial, ribosomal and hemoglobin genes (case sensitive)\n",
    "adata.var['mt'] = adata.var_names.str.startswith(('MT-', 'mt-'))\n",
    "adata.var['ribo'] = adata.var_names.str.startswith(('RPS','RPL', 'Rps', 'Rpl'))\n",
    "adata.var['hb'] = adata.var_names.str.startswith(('HB', 'Hb'))\n",
    "\n",
    "# for each cell compute fraction of counts in mitochondrial, ribosomal and hemoglobin genes vs. all genes \n",
    "adata.obs['mito_frac'] = np.sum(adata[:,adata.var['mt']==True].X, axis=1) / np.sum(adata.X, axis=1)\n",
    "adata.obs['ribo_frac'] = np.sum(adata[:,adata.var['ribo']==True].X, axis=1) / np.sum(adata.X, axis=1)\n",
    "adata.obs['hb_frac'] = np.sum(adata[:,adata.var['hb']==True].X, axis=1) / np.sum(adata.X, axis=1)"
   ]
  },
  {
   "cell_type": "code",
   "execution_count": null,
   "metadata": {},
   "outputs": [],
   "source": [
    "sc.pl.violin(adata, ['n_genes_by_counts', 'log10_original_total_counts', 'ribo_frac', 'mito_frac', 'hb_frac'],  \n",
    "             palette=user_defined_palette,  jitter=0.4, groupby = 'replicate', rotation= 90)"
   ]
  },
  {
   "cell_type": "markdown",
   "metadata": {},
   "source": [
    "#### Identify doublets"
   ]
  },
  {
   "cell_type": "markdown",
   "metadata": {},
   "source": [
    "We will use scanpy's implementation (`scanpy.external.pp.scrublet` function) of scrublet (https://github.com/swolock/scrublet) to predict doublets. This command will use the default parameters of `scanpy.external.pp.scrublet`, however, if you are feeling brave and disagree with the predicted parameters you can use this scrublet's example notebook (https://github.com/swolock/scrublet/blob/master/examples/scrublet_basics.ipynb) to alter them to your preferred ones."
   ]
  },
  {
   "cell_type": "code",
   "execution_count": null,
   "metadata": {},
   "outputs": [],
   "source": [
    "sc.external.pp.scrublet(adata, random_state=42) # run scrublet to predict potential doublets"
   ]
  },
  {
   "cell_type": "code",
   "execution_count": null,
   "metadata": {},
   "outputs": [],
   "source": [
    "sc.external.pl.scrublet_score_distribution(adata) # inspect automatic threshold"
   ]
  },
  {
   "cell_type": "markdown",
   "metadata": {},
   "source": [
    "✍️ Because automatic threshold was not optimal, here we adjusted the threshold manually to make it more stringent."
   ]
  },
  {
   "cell_type": "code",
   "execution_count": null,
   "metadata": {},
   "outputs": [],
   "source": [
    "sc.external.pp.scrublet(adata, threshold=0.25, random_state=42) # choose threshold manually"
   ]
  },
  {
   "cell_type": "code",
   "execution_count": null,
   "metadata": {},
   "outputs": [],
   "source": [
    "sc.external.pl.scrublet_score_distribution(adata) # inspect manual threshold"
   ]
  },
  {
   "cell_type": "markdown",
   "metadata": {},
   "source": [
    "#### Remove not expressed genes"
   ]
  },
  {
   "cell_type": "markdown",
   "metadata": {},
   "source": [
    "✍️ We will remove genes that are not expressed in any cells across our samples, as these genes will not contribute to any biological insight, but rather may affect downstream analysis speed. This step can become more stringent by providing a higher number of cells in the `min_cells` field."
   ]
  },
  {
   "cell_type": "code",
   "execution_count": null,
   "metadata": {},
   "outputs": [],
   "source": [
    "sc.pp.filter_genes(adata, min_cells=1) # remove columns with all 0s"
   ]
  },
  {
   "cell_type": "markdown",
   "metadata": {},
   "source": [
    "#### Remove ribosomal and hemoglobin genes"
   ]
  },
  {
   "cell_type": "markdown",
   "metadata": {},
   "source": [
    "Ribosomal and hemoglobin genes constitute a high percentage of the total read counts, and they can affect downstream analysis and interpretation of our data, therefore, here we remove these genes before further processing."
   ]
  },
  {
   "cell_type": "code",
   "execution_count": null,
   "metadata": {},
   "outputs": [],
   "source": [
    "adata = adata[:,adata.var['ribo']==False]\n",
    "adata.shape # check number of genes after ribosomal gene removal"
   ]
  },
  {
   "cell_type": "code",
   "execution_count": null,
   "metadata": {},
   "outputs": [],
   "source": [
    "adata = adata[:,adata.var['hb']==False]\n",
    "adata.shape # check number of genes after hemoglobin gene removal"
   ]
  },
  {
   "cell_type": "markdown",
   "metadata": {},
   "source": [
    "#### Normalize each cell's library size"
   ]
  },
  {
   "cell_type": "markdown",
   "metadata": {},
   "source": [
    "Next, we will normalize each cell to a total library size of 10,000 reads. The `adata.X` field will be updated automatically with the normalized counts."
   ]
  },
  {
   "cell_type": "code",
   "execution_count": null,
   "metadata": {},
   "outputs": [],
   "source": [
    "sc.pp.normalize_per_cell(adata, counts_per_cell_after=10**4)"
   ]
  },
  {
   "cell_type": "markdown",
   "metadata": {},
   "source": [
    "❗ Raw data can be recovered via the `adata.raw` field."
   ]
  },
  {
   "cell_type": "markdown",
   "metadata": {},
   "source": [
    "#### Log-transform counts"
   ]
  },
  {
   "cell_type": "markdown",
   "metadata": {},
   "source": [
    "We will also *log*-transform the gene counts here using scanpy's `sc.pp.log1p` function. This function uses the `log(X+1)` formula, in which *log* denotes the natural logarithm."
   ]
  },
  {
   "cell_type": "code",
   "execution_count": null,
   "metadata": {},
   "outputs": [],
   "source": [
    "sc.pp.log1p(adata)"
   ]
  },
  {
   "cell_type": "markdown",
   "metadata": {},
   "source": [
    "### Select a subset of principal components "
   ]
  },
  {
   "cell_type": "markdown",
   "metadata": {},
   "source": [
    "Prior to plotting our data in a 2-dimensional space (in this case using scanpy's `sc.pl.umap` function), we need to select a small number of principal components to reduce the noise of this multitude of data and as well increase the execution speed.\n",
    "\n",
    "For that, we will first select a large number of principal components and visualize the percentage of variance explained by each component."
   ]
  },
  {
   "cell_type": "markdown",
   "metadata": {},
   "source": [
    "*For fun, here and in all the cases that we need to set a seed, we will use the **number 42**, the answer to the Ultimate Question of Life, the Universe, and Everything.*"
   ]
  },
  {
   "cell_type": "code",
   "execution_count": null,
   "metadata": {},
   "outputs": [],
   "source": [
    "rng = np.random.RandomState(42) # set seed \n",
    "sc.tl.pca(adata, n_comps=200, svd_solver='arpack', random_state=rng)"
   ]
  },
  {
   "cell_type": "code",
   "execution_count": null,
   "metadata": {},
   "outputs": [],
   "source": [
    "observe_variance(adata)"
   ]
  },
  {
   "cell_type": "markdown",
   "metadata": {},
   "source": [
    "❗ We want to include all the principal components before the 'knee point' (the point where the fitted curve would change slope the most), because these likely represent important sources of variance in our data. To try and avoid eliminating any relevant but small sources of variance, we will choose a number of PCs slightly to the right of the knee point. "
   ]
  },
  {
   "cell_type": "markdown",
   "metadata": {},
   "source": [
    "✍️ Replace the number in the `n_comps` field with your principal components selection."
   ]
  },
  {
   "cell_type": "code",
   "execution_count": null,
   "metadata": {},
   "outputs": [],
   "source": [
    "rng = np.random.RandomState(42) # set seed \n",
    "sc.tl.pca(adata, n_comps=50,  svd_solver='arpack')\n",
    "sc.pp.neighbors(adata, n_neighbors=15, random_state=42) # set seed\n",
    "sc.tl.umap(adata)"
   ]
  },
  {
   "cell_type": "code",
   "execution_count": null,
   "metadata": {},
   "outputs": [],
   "source": [
    "sc.set_figure_params(dpi=80, dpi_save=300, color_map='viridis', vector_friendly=False, transparent=True)\n",
    "sc.pl.umap(\n",
    "    adata,\n",
    "    color=['sample'], \n",
    "    color_map='Spectral_r', \n",
    "    palette=user_defined_palette,\n",
    "    use_raw=False,\n",
    "    ncols=5,\n",
    "    wspace = 0.1,\n",
    "    outline_width=[0.6, 0.05],\n",
    "    size=30,\n",
    "    frameon=False,\n",
    "    add_outline=True,\n",
    "    sort_order = False\n",
    ")"
   ]
  },
  {
   "cell_type": "markdown",
   "metadata": {},
   "source": [
    "❗ **Does your data look well distinguished?** If yes, move ahead. If no, maybe try to increase (or decrease) the number of principal components you used, and rerun the last bits of code."
   ]
  },
  {
   "cell_type": "markdown",
   "metadata": {},
   "source": [
    "### Run unsupervised clustering analysis with leiden"
   ]
  },
  {
   "cell_type": "markdown",
   "metadata": {},
   "source": [
    "Next, we perform leiden clustering analysis using consecutive resolution parameters and visualize the resulting clusters in the respective generated UMAPs. We can then visually select an optimal number of clusters that better identify contaminant populations and also clusters of cells that have a combination of \"bad\" quality measures. Here, we aim to remove as cleanly as possible bad quality cells and cell contaminants that we don't want carry in our downstream analysis.   "
   ]
  },
  {
   "cell_type": "code",
   "execution_count": null,
   "metadata": {},
   "outputs": [],
   "source": [
    "for resolution_parameter in [0.1, 0.2, 0.3, 0.4, 0.5, 0.6, 0.7, 0.8, 0.9, 1.0]:\n",
    "    sc.tl.leiden(adata, resolution=resolution_parameter, random_state=42, \n",
    "                        key_added='leiden_'+str(resolution_parameter))"
   ]
  },
  {
   "cell_type": "markdown",
   "metadata": {},
   "source": [
    "We can visualize the clustering to see which clusters match with the cells that we would like to filter out. Inspect the list of QC metrics and canonical markers to make your choice."
   ]
  },
  {
   "cell_type": "code",
   "execution_count": null,
   "metadata": {},
   "outputs": [],
   "source": [
    "sc.set_figure_params(dpi=80, dpi_save=300, color_map='viridis', vector_friendly=False, transparent=True)\n",
    "sc.pl.umap(\n",
    "    adata, \n",
    "    color=['leiden_0.1', 'leiden_0.2', 'leiden_0.3', 'leiden_0.4', 'leiden_0.5', \n",
    "           'leiden_0.6', 'leiden_0.7', 'leiden_0.8', 'leiden_0.9', 'leiden_1.0'], \n",
    "    palette=user_defined_palette,  \n",
    "    color_map='Spectral_r', \n",
    "    use_raw=False,\n",
    "    ncols=5,\n",
    "    wspace = 0.3,\n",
    "    outline_width=[0.6, 0.05],\n",
    "    size=15,\n",
    "    frameon=False,\n",
    "    add_outline=True,\n",
    "    sort_order = False\n",
    ")"
   ]
  },
  {
   "cell_type": "code",
   "execution_count": null,
   "metadata": {},
   "outputs": [],
   "source": [
    "sc.set_figure_params(dpi=80, dpi_save=300, color_map='viridis', vector_friendly=False, transparent=True)\n",
    "sc.pl.umap(\n",
    "    adata, \n",
    "    color=['leiden_0.9'], \n",
    "    palette=user_defined_palette,  \n",
    "    color_map='Spectral_r',\n",
    "    use_raw=False,\n",
    "    ncols=5,\n",
    "    wspace = 0.1,\n",
    "    outline_width=[0.6, 0.05],\n",
    "    size=15,\n",
    "    frameon=False,\n",
    "    add_outline=True,\n",
    "    sort_order = False\n",
    ")"
   ]
  },
  {
   "cell_type": "code",
   "execution_count": null,
   "metadata": {},
   "outputs": [],
   "source": [
    "sc.set_figure_params(dpi=80, dpi_save=300, color_map='viridis', vector_friendly=False, transparent=True)\n",
    "sc.pl.umap(\n",
    "    adata, \n",
    "    color=['Cd3e','Cd4', 'Cd8a', 'Cd19'], \n",
    "    palette=user_defined_palette,  \n",
    "    color_map='Spectral_r', \n",
    "    use_raw=False,\n",
    "    ncols=5,\n",
    "    wspace = 0.2,\n",
    "    outline_width=[0.6, 0.05],\n",
    "    size=15,\n",
    "    frameon=False,\n",
    "    add_outline=True,\n",
    "    sort_order = False,\n",
    "    vmax=2\n",
    ")"
   ]
  },
  {
   "cell_type": "markdown",
   "metadata": {},
   "source": [
    "❗ Store total number of cells prior to any filtering to use for a per sample summary cells that did not pass QC visual"
   ]
  },
  {
   "cell_type": "code",
   "execution_count": null,
   "metadata": {},
   "outputs": [],
   "source": [
    "adata_memo = adata"
   ]
  },
  {
   "cell_type": "markdown",
   "metadata": {},
   "source": [
    "### Filter out bad quality cells and other cell contaminants by cluster"
   ]
  },
  {
   "cell_type": "markdown",
   "metadata": {},
   "source": [
    "Now inspect the QC metrics for each of the clusters and choose to remove any clusters that may have a combination of bad quality metrics."
   ]
  },
  {
   "cell_type": "code",
   "execution_count": null,
   "metadata": {},
   "outputs": [],
   "source": [
    "sc.set_figure_params(dpi=80, dpi_save=300, color_map='viridis', vector_friendly=False, transparent=True)\n",
    "sc.pl.umap(\n",
    "    adata, \n",
    "    color=['log10_original_total_counts', 'n_genes_by_counts','ribo_frac', 'mito_frac'], \n",
    "    palette=user_defined_palette,  \n",
    "    color_map='Spectral_r',\n",
    "    use_raw=False,\n",
    "    ncols=5,\n",
    "    wspace = 0.2,\n",
    "    outline_width=[0.6, 0.05],\n",
    "    size=15,\n",
    "    frameon=False,\n",
    "    add_outline=True,\n",
    "    sort_order = False\n",
    ")"
   ]
  },
  {
   "cell_type": "markdown",
   "metadata": {},
   "source": [
    "✍️ Choose which clusters you want to remove, and add them to the list clusters_to_remove below."
   ]
  },
  {
   "cell_type": "code",
   "execution_count": null,
   "metadata": {},
   "outputs": [],
   "source": [
    "clusters_to_remove = ['6']\n",
    "cluster_filter = [x not in clusters_to_remove for x in adata.obs['leiden_0.9']]\n",
    "print('Total number of cells pre-filtering: ' + str(adata.shape[0]))\n",
    "print('Number of cells to keep after filtering: ' + str(sum(cluster_filter)))\n",
    "adata_filtered = adata[cluster_filter]"
   ]
  },
  {
   "cell_type": "code",
   "execution_count": null,
   "metadata": {},
   "outputs": [],
   "source": [
    "sc.set_figure_params(dpi=80, dpi_save=300, color_map='viridis', vector_friendly=False, transparent=True)\n",
    "sc.pl.umap(\n",
    "    adata_filtered, \n",
    "    color=['leiden_0.9'], \n",
    "    palette=user_defined_palette,  \n",
    "    color_map='Spectral_r', \n",
    "    use_raw=False,\n",
    "    ncols=5,\n",
    "    wspace = 0.1,\n",
    "    outline_width=[0.6, 0.05],\n",
    "    size=15,\n",
    "    frameon=False,\n",
    "    add_outline=True,\n",
    "    sort_order = False\n",
    ")"
   ]
  },
  {
   "cell_type": "markdown",
   "metadata": {},
   "source": [
    "❗ **Were the correct clusters removed?** If the bad quality cells and doublets are removed, run the next line to store the result in your adata object and continue with the analysis."
   ]
  },
  {
   "cell_type": "code",
   "execution_count": null,
   "metadata": {},
   "outputs": [],
   "source": [
    "adata = adata_filtered"
   ]
  },
  {
   "cell_type": "code",
   "execution_count": null,
   "metadata": {},
   "outputs": [],
   "source": [
    "adata.shape"
   ]
  },
  {
   "cell_type": "markdown",
   "metadata": {},
   "source": [
    "### Filter out doublets"
   ]
  },
  {
   "cell_type": "markdown",
   "metadata": {},
   "source": [
    "This would be also a good spot to remove the doublets that we have identified above. We first inspect where the predicted doublets lie on the UMAP and then we proceed to remove them."
   ]
  },
  {
   "cell_type": "code",
   "execution_count": null,
   "metadata": {},
   "outputs": [],
   "source": [
    "sc.pl.umap(\n",
    "    adata, \n",
    "    color=['predicted_doublet', 'doublet_score'], \n",
    "    palette=user_defined_palette,  \n",
    "    color_map='Spectral_r', \n",
    "    use_raw=False,\n",
    "    ncols=5,\n",
    "    wspace = 0.1,\n",
    "    outline_width=[0.6, 0.05],\n",
    "    size=15,\n",
    "    frameon=False,\n",
    "    add_outline=True,\n",
    "    sort_order = False\n",
    ")"
   ]
  },
  {
   "cell_type": "code",
   "execution_count": null,
   "metadata": {},
   "outputs": [],
   "source": [
    "adata = adata[adata.obs['predicted_doublet'] == False] # remove cells annotated as doublets"
   ]
  },
  {
   "cell_type": "code",
   "execution_count": null,
   "metadata": {},
   "outputs": [],
   "source": [
    "sc.pl.umap(\n",
    "    adata, \n",
    "    color=['predicted_doublet', 'doublet_score'], \n",
    "    palette=user_defined_palette,  \n",
    "    color_map='Spectral_r', \n",
    "    use_raw=False,\n",
    "    ncols=5,\n",
    "    wspace = 0.1,\n",
    "    outline_width=[0.6, 0.05],\n",
    "    size=15,\n",
    "    frameon=False,\n",
    "    add_outline=True,\n",
    "    sort_order = False\n",
    ")"
   ]
  },
  {
   "cell_type": "markdown",
   "metadata": {},
   "source": [
    "Let's now check the exact number of doublet cells that were removed from the dataset."
   ]
  },
  {
   "cell_type": "code",
   "execution_count": null,
   "metadata": {},
   "outputs": [],
   "source": [
    "adata.shape"
   ]
  },
  {
   "cell_type": "markdown",
   "metadata": {},
   "source": [
    "### Reanalyze the data after removal of \"unwanted\" cells"
   ]
  },
  {
   "cell_type": "markdown",
   "metadata": {},
   "source": [
    "Once we have removed all \"unwanted\" cells, we need to reanalyze our data in a similar way to sections 1.3 and 1.4 above. "
   ]
  },
  {
   "cell_type": "code",
   "execution_count": null,
   "metadata": {},
   "outputs": [],
   "source": [
    "rng = np.random.RandomState(42)\n",
    "adata = sc.tl.pca(adata, n_comps=200, copy = True, svd_solver='arpack', random_state=rng)"
   ]
  },
  {
   "cell_type": "code",
   "execution_count": null,
   "metadata": {},
   "outputs": [],
   "source": [
    "observe_variance(adata)"
   ]
  },
  {
   "cell_type": "markdown",
   "metadata": {},
   "source": [
    "✍️ Remember to choose here a different number of principal components based on the re-analysis."
   ]
  },
  {
   "cell_type": "code",
   "execution_count": null,
   "metadata": {},
   "outputs": [],
   "source": [
    "rng = np.random.RandomState(42) # use seed\n",
    "sc.tl.pca(adata, n_comps=50, svd_solver='arpack', random_state=rng)\n",
    "sc.pp.neighbors(adata, n_neighbors=15)\n",
    "sc.tl.umap(adata)"
   ]
  },
  {
   "cell_type": "code",
   "execution_count": null,
   "metadata": {},
   "outputs": [],
   "source": [
    "sc.set_figure_params(dpi=80, dpi_save=300, color_map='viridis', vector_friendly=False, transparent=True)\n",
    "sc.pl.umap(\n",
    "    adata, \n",
    "    color=['sample'], \n",
    "    color_map='Spectral_r', \n",
    "    use_raw=False,\n",
    "    ncols=5,\n",
    "    wspace = 0.1,\n",
    "    outline_width=[0.6, 0.05],\n",
    "    size=25,\n",
    "    frameon=False,\n",
    "    add_outline=False,\n",
    "    sort_order = False\n",
    ")"
   ]
  },
  {
   "cell_type": "markdown",
   "metadata": {},
   "source": [
    "As previously, we perform leiden clustering analysis using consecutive resolution parameters and visualize the resulting clusters in the respective generated UMAPs. Here, we opt to select the number of clusters that better previously known populations (based on the expression of canonical markers), and also *de-novo* populations of cells that look well separated in the UMAP representation."
   ]
  },
  {
   "cell_type": "code",
   "execution_count": null,
   "metadata": {},
   "outputs": [],
   "source": [
    "for resolution_parameter in [0.1, 0.2, 0.3, 0.4, 0.5, 0.6, 0.7, 0.8, 0.9, 1.0]:\n",
    "    sc.tl.leiden(adata, resolution=resolution_parameter, random_state=42, \n",
    "                        key_added='leiden_'+str(resolution_parameter))"
   ]
  },
  {
   "cell_type": "code",
   "execution_count": null,
   "metadata": {},
   "outputs": [],
   "source": [
    "sc.set_figure_params(dpi=80, dpi_save=300, color_map='viridis', vector_friendly=False, transparent=True)\n",
    "sc.pl.umap(\n",
    "    adata, \n",
    "    color=['leiden_0.1', 'leiden_0.2', 'leiden_0.3', 'leiden_0.4', 'leiden_0.5', \n",
    "           'leiden_0.6', 'leiden_0.7', 'leiden_0.8', 'leiden_0.9', 'leiden_1.0'], \n",
    "    palette=user_defined_palette,  \n",
    "    color_map='Spectral_r', \n",
    "    ncols=5,\n",
    "    wspace = 0.3,\n",
    "    outline_width=[0.6, 0.05],\n",
    "    size=15,\n",
    "    frameon=False,\n",
    "    add_outline=True,\n",
    "    sort_order = False\n",
    ")"
   ]
  },
  {
   "cell_type": "code",
   "execution_count": null,
   "metadata": {},
   "outputs": [],
   "source": [
    "sc.set_figure_params(dpi=80, dpi_save=300, color_map='viridis', vector_friendly=False, transparent=True)\n",
    "sc.pl.umap(\n",
    "    adata, \n",
    "    color=['Cd3e', 'Cd4', 'Cd8a', 'Cd19'], \n",
    "    palette=user_defined_palette,  \n",
    "    color_map='Spectral_r', \n",
    "    use_raw=False,\n",
    "    ncols=5,\n",
    "    wspace = 0.1,\n",
    "    outline_width=[0.6, 0.05],\n",
    "    size=15,\n",
    "    frameon=False,\n",
    "    add_outline=True,\n",
    "    sort_order = False,\n",
    "    vmax=2\n",
    ")"
   ]
  },
  {
   "cell_type": "code",
   "execution_count": null,
   "metadata": {},
   "outputs": [],
   "source": [
    "sc.set_figure_params(dpi=80, dpi_save=300, color_map='viridis', vector_friendly=False, transparent=True)\n",
    "sc.pl.umap(\n",
    "    adata, \n",
    "    color=['sample'], \n",
    "    palette=user_defined_palette,  \n",
    "    color_map='Spectral_r', \n",
    "    use_raw=False,\n",
    "    ncols=5,\n",
    "    wspace = 0.1,\n",
    "    outline_width=[0.6, 0.05],\n",
    "    size=15,\n",
    "    frameon=False,\n",
    "    add_outline=True,\n",
    "    sort_order = False,\n",
    "    vmax=2\n",
    ")"
   ]
  },
  {
   "cell_type": "code",
   "execution_count": null,
   "metadata": {},
   "outputs": [],
   "source": [
    "sc.pl.violin(adata, ['n_genes_by_counts', 'log10_original_total_counts', 'ribo_frac', 'mito_frac', 'hb_frac'],  \n",
    "             palette=user_defined_palette,  jitter=0.4, groupby = 'leiden_0.9', rotation= 90)"
   ]
  },
  {
   "cell_type": "code",
   "execution_count": null,
   "metadata": {},
   "outputs": [],
   "source": [
    "clusters_to_remove = ['0', '7', '8']\n",
    "cluster_filter = [x not in clusters_to_remove for x in adata.obs['leiden_0.9']]\n",
    "print('Total number of cells pre-filtering: ' + str(adata.shape[0]))\n",
    "print('Number of cells to keep after filtering: ' + str(sum(cluster_filter)))\n",
    "adata_filtered = adata[cluster_filter]"
   ]
  },
  {
   "cell_type": "code",
   "execution_count": null,
   "metadata": {},
   "outputs": [],
   "source": [
    "adata = adata_filtered"
   ]
  },
  {
   "cell_type": "code",
   "execution_count": null,
   "metadata": {},
   "outputs": [],
   "source": [
    "rng = np.random.RandomState(42)\n",
    "adata = sc.tl.pca(adata, n_comps=200, copy = True, svd_solver='arpack', random_state=rng)"
   ]
  },
  {
   "cell_type": "code",
   "execution_count": null,
   "metadata": {},
   "outputs": [],
   "source": [
    "observe_variance(adata)"
   ]
  },
  {
   "cell_type": "markdown",
   "metadata": {},
   "source": [
    "✍️ Remember to choose here a different number of principal components based on the re-analysis."
   ]
  },
  {
   "cell_type": "code",
   "execution_count": null,
   "metadata": {},
   "outputs": [],
   "source": [
    "rng = np.random.RandomState(42) # use seed\n",
    "sc.tl.pca(adata, n_comps=50, svd_solver='arpack', random_state=rng)\n",
    "sc.pp.neighbors(adata, n_neighbors=15)\n",
    "sc.tl.umap(adata, min_dist=0.2)"
   ]
  },
  {
   "cell_type": "code",
   "execution_count": null,
   "metadata": {},
   "outputs": [],
   "source": [
    "for resolution_parameter in [0.1, 0.2, 0.3, 0.4, 0.5, 0.6, 0.7, 0.8, 0.9, 1.0]:\n",
    "    sc.tl.leiden(adata, resolution=resolution_parameter, random_state=42, \n",
    "                        key_added='leiden_'+str(resolution_parameter))"
   ]
  },
  {
   "cell_type": "code",
   "execution_count": null,
   "metadata": {},
   "outputs": [],
   "source": [
    "sc.set_figure_params(dpi=80, dpi_save=300, color_map='viridis', vector_friendly=False, transparent=True)\n",
    "sc.pl.umap(\n",
    "    adata, \n",
    "    color=['leiden_0.1', 'leiden_0.2', 'leiden_0.3', 'leiden_0.4', 'leiden_0.5', \n",
    "           'leiden_0.6', 'leiden_0.7', 'leiden_0.8', 'leiden_0.9', 'leiden_1.0'], \n",
    "    palette=user_defined_palette,  \n",
    "    color_map='Spectral_r', \n",
    "    ncols=5,\n",
    "    wspace = 0.3,\n",
    "    outline_width=[0.6, 0.05],\n",
    "    size=7,\n",
    "    frameon=False,\n",
    "    add_outline=True,\n",
    "    sort_order = False\n",
    ")"
   ]
  },
  {
   "cell_type": "code",
   "execution_count": null,
   "metadata": {},
   "outputs": [],
   "source": [
    "sc.set_figure_params(dpi=80, dpi_save=300, color_map='viridis', vector_friendly=False, transparent=True)\n",
    "sc.pl.umap(\n",
    "    adata, \n",
    "    color=['Cd3e', 'Cd4', 'Cd8a', 'Cd19'], \n",
    "    palette=user_defined_palette,  \n",
    "    color_map='Spectral_r', \n",
    "    use_raw=False,\n",
    "    ncols=5,\n",
    "    wspace = 0.1,\n",
    "    outline_width=[0.6, 0.05],\n",
    "    size=15,\n",
    "    frameon=False,\n",
    "    add_outline=True,\n",
    "    sort_order = False,\n",
    "    vmax=2\n",
    ")"
   ]
  },
  {
   "cell_type": "code",
   "execution_count": null,
   "metadata": {},
   "outputs": [],
   "source": [
    "clusters_to_remove = ['1']\n",
    "cluster_filter = [x not in clusters_to_remove for x in adata.obs['leiden_0.8']]\n",
    "print('Total number of cells pre-filtering: ' + str(adata.shape[0]))\n",
    "print('Number of cells to keep after filtering: ' + str(sum(cluster_filter)))\n",
    "adata_filtered = adata[cluster_filter]"
   ]
  },
  {
   "cell_type": "code",
   "execution_count": null,
   "metadata": {},
   "outputs": [],
   "source": [
    "adata = adata_filtered"
   ]
  },
  {
   "cell_type": "code",
   "execution_count": null,
   "metadata": {},
   "outputs": [],
   "source": [
    "rng = np.random.RandomState(42)\n",
    "adata = sc.tl.pca(adata, n_comps=200, copy = True, svd_solver='arpack', random_state=rng)"
   ]
  },
  {
   "cell_type": "code",
   "execution_count": null,
   "metadata": {},
   "outputs": [],
   "source": [
    "observe_variance(adata)"
   ]
  },
  {
   "cell_type": "markdown",
   "metadata": {},
   "source": [
    "✍️ Remember to choose here a different number of principal components based on the re-analysis."
   ]
  },
  {
   "cell_type": "code",
   "execution_count": null,
   "metadata": {},
   "outputs": [],
   "source": [
    "rng = np.random.RandomState(42) # use seed\n",
    "sc.tl.pca(adata, n_comps=200, svd_solver='arpack', random_state=rng)\n",
    "sc.pp.neighbors(adata, n_neighbors=15)\n",
    "sc.tl.umap(adata, min_dist=0.2)"
   ]
  },
  {
   "cell_type": "code",
   "execution_count": null,
   "metadata": {},
   "outputs": [],
   "source": [
    "for resolution_parameter in [0.1, 0.2, 0.3, 0.4, 0.5, 0.6, 0.7, 0.8, 0.9, 1.0]:\n",
    "    sc.tl.leiden(adata, resolution=resolution_parameter, random_state=42, \n",
    "                        key_added='leiden_'+str(resolution_parameter))"
   ]
  },
  {
   "cell_type": "code",
   "execution_count": null,
   "metadata": {},
   "outputs": [],
   "source": [
    "sc.set_figure_params(dpi=80, dpi_save=300, color_map='viridis', vector_friendly=False, transparent=True)\n",
    "sc.pl.umap(\n",
    "    adata, \n",
    "    color=['leiden_0.1', 'leiden_0.2', 'leiden_0.3', 'leiden_0.4', 'leiden_0.5', \n",
    "           'leiden_0.6', 'leiden_0.7', 'leiden_0.8', 'leiden_0.9', 'leiden_1.0'], \n",
    "    palette=user_defined_palette,  \n",
    "    color_map='Spectral_r', \n",
    "    ncols=5,\n",
    "    wspace = 0.3,\n",
    "    outline_width=[0.6, 0.05],\n",
    "    size=7,\n",
    "    frameon=False,\n",
    "    add_outline=True,\n",
    "    sort_order = False\n",
    ")"
   ]
  },
  {
   "cell_type": "code",
   "execution_count": null,
   "metadata": {},
   "outputs": [],
   "source": [
    "sc.set_figure_params(dpi=80, dpi_save=300, color_map='viridis', vector_friendly=False, transparent=True)\n",
    "sc.pl.umap(\n",
    "    adata, \n",
    "    color=['Cd3e', 'Cd4', 'Cd8a', 'Cd19'], \n",
    "    palette=user_defined_palette,  \n",
    "    color_map='Spectral_r', \n",
    "    use_raw=False,\n",
    "    ncols=5,\n",
    "    wspace = 0.1,\n",
    "    outline_width=[0.6, 0.05],\n",
    "    size=15,\n",
    "    frameon=False,\n",
    "    add_outline=True,\n",
    "    sort_order = False,\n",
    "    vmax=2\n",
    ")"
   ]
  },
  {
   "cell_type": "code",
   "execution_count": null,
   "metadata": {},
   "outputs": [],
   "source": []
  },
  {
   "cell_type": "markdown",
   "metadata": {},
   "source": [
    "You are done! Just save you anndata object to come back to it later. Make sure your path ends with the desired filename including the .h5ad file extension. You can now come back to this dataset at anytime."
   ]
  },
  {
   "cell_type": "code",
   "execution_count": null,
   "metadata": {},
   "outputs": [],
   "source": [
    "path_to_h5ad = '../SJ_single_cell.h5ad'\n"
   ]
  },
  {
   "cell_type": "code",
   "execution_count": null,
   "metadata": {},
   "outputs": [],
   "source": [
    "# adata.write(path_to_h5ad)"
   ]
  },
  {
   "cell_type": "code",
   "execution_count": null,
   "metadata": {},
   "outputs": [],
   "source": [
    "# code to read back your saved h5ad object\n",
    "adata = sc.read_h5ad(path_to_h5ad)\n",
    "adata.uns['log1p'][\"base\"] = None"
   ]
  },
  {
   "cell_type": "markdown",
   "metadata": {},
   "source": [
    "Return to the beginning of this notebook <a href='#contents'>here</a>."
   ]
  },
  {
   "cell_type": "markdown",
   "metadata": {},
   "source": [
    "<a id='phase'></a>"
   ]
  },
  {
   "cell_type": "markdown",
   "metadata": {},
   "source": [
    "Return to the beginning of this notebook <a href='#contents'>here</a>."
   ]
  },
  {
   "cell_type": "markdown",
   "metadata": {},
   "source": [
    "<a id='harmony'></a>"
   ]
  },
  {
   "cell_type": "markdown",
   "metadata": {},
   "source": [
    "## perform clustering using highly variable genes"
   ]
  },
  {
   "cell_type": "markdown",
   "metadata": {},
   "source": [
    "When ispecting the annotated by sample UMAP above, it is likely that samples from different experiments do not properly overlap, despite having shared populations, due to small but consistent technical effects (batches) across each dataset that influence their projection. We can initially attempt to correct for this by choosing only highly variable genes (hvgs) when running scanpy's `sc.tl.pca` function. This will create the UMAP based on the biggest differences of the existing populations and may salvage the technical noise that is more apparent when running the  analysis across all genes."
   ]
  },
  {
   "cell_type": "code",
   "execution_count": null,
   "metadata": {},
   "outputs": [],
   "source": [
    "sc.pp.highly_variable_genes(adata, n_top_genes=2000, n_bins=20, flavor='seurat',  inplace=True)"
   ]
  },
  {
   "cell_type": "markdown",
   "metadata": {},
   "source": [
    "As above, observe and choose an optimal number of components based on the \"knee point\" of the curve below."
   ]
  },
  {
   "cell_type": "code",
   "execution_count": null,
   "metadata": {},
   "outputs": [],
   "source": [
    "rng = np.random.RandomState(42)\n",
    "sc.tl.pca(adata, n_comps=200, svd_solver='arpack', random_state=rng, use_highly_variable=True)"
   ]
  },
  {
   "cell_type": "code",
   "execution_count": null,
   "metadata": {},
   "outputs": [],
   "source": [
    "observe_variance(adata)"
   ]
  },
  {
   "cell_type": "code",
   "execution_count": null,
   "metadata": {},
   "outputs": [],
   "source": [
    "rng = np.random.RandomState(42)\n",
    "sc.tl.pca(adata, n_comps=30, svd_solver='arpack', random_state=rng, use_highly_variable=True)"
   ]
  },
  {
   "cell_type": "markdown",
   "metadata": {},
   "source": [
    "### Rerun leiden clustering"
   ]
  },
  {
   "cell_type": "markdown",
   "metadata": {},
   "source": [
    "Once we have updated the pca components we use to compute the UMAP, we need to rerun leiden clustering analysis using consecutive resolution parameters and visualize the resulting clusters in the respective generated UMAPs to choose an appropriate UMAP."
   ]
  },
  {
   "cell_type": "code",
   "execution_count": null,
   "metadata": {},
   "outputs": [],
   "source": [
    "for resolution_parameter in [0.1, 0.2, 0.3, 0.4, 0.5, 0.6, 0.7, 0.8, 0.9, 1.0]:\n",
    "    sc.tl.leiden(adata, resolution=resolution_parameter, random_state=42, \n",
    "                        key_added='leiden_'+str(resolution_parameter))"
   ]
  },
  {
   "cell_type": "code",
   "execution_count": null,
   "metadata": {},
   "outputs": [],
   "source": [
    "sc.set_figure_params(dpi=80, dpi_save=300, color_map='viridis', vector_friendly=False, transparent=True)\n",
    "sc.pl.umap(\n",
    "    adata, \n",
    "    color=['leiden_0.1', 'leiden_0.2', 'leiden_0.3', 'leiden_0.4', 'leiden_0.5', \n",
    "           'leiden_0.6', 'leiden_0.7', 'leiden_0.8', 'leiden_0.9', 'leiden_1.0'], \n",
    "    palette=user_defined_palette,  \n",
    "    color_map='Spectral_r',\n",
    "    use_raw=False,\n",
    "    ncols=5,\n",
    "    wspace = 0.3,\n",
    "    outline_width=[0.6, 0.05],\n",
    "    size=15,\n",
    "    frameon=False,\n",
    "    add_outline=True,\n",
    "    sort_order = False\n",
    ")"
   ]
  },
  {
   "cell_type": "code",
   "execution_count": null,
   "metadata": {},
   "outputs": [],
   "source": [
    "sc.set_figure_params(dpi=80, dpi_save=300, color_map='viridis', vector_friendly=False, transparent=True)\n",
    "sc.pl.umap(\n",
    "    adata, \n",
    "    color=['leiden_0.3'], \n",
    "    use_raw=False,\n",
    "    palette=user_defined_palette,  \n",
    "    color_map='Spectral_r', \n",
    "    ncols=5,\n",
    "    wspace = 0.1,\n",
    "    outline_width=[0.6, 0.05],\n",
    "    size=15,\n",
    "    frameon=False,\n",
    "    add_outline=True,\n",
    "    sort_order = False\n",
    ")"
   ]
  },
  {
   "cell_type": "code",
   "execution_count": null,
   "metadata": {},
   "outputs": [],
   "source": [
    "clusters_to_remove = ['2']\n",
    "cluster_filter = [x not in clusters_to_remove for x in adata.obs['leiden_0.3']]\n",
    "print('Total number of cells pre-filtering: ' + str(adata.shape[0]))\n",
    "print('Number of cells to keep after filtering: ' + str(sum(cluster_filter)))\n",
    "adata_filtered = adata[cluster_filter]"
   ]
  },
  {
   "cell_type": "markdown",
   "metadata": {},
   "source": [
    "❗ **Were the correct clusters removed?** If the bad quality cells and doublets are removed, run the next line to store the result in your adata object and continue with the analysis."
   ]
  },
  {
   "cell_type": "code",
   "execution_count": null,
   "metadata": {},
   "outputs": [],
   "source": [
    "adata = adata_filtered"
   ]
  },
  {
   "cell_type": "code",
   "execution_count": null,
   "metadata": {},
   "outputs": [],
   "source": [
    "adata.shape"
   ]
  },
  {
   "cell_type": "code",
   "execution_count": null,
   "metadata": {},
   "outputs": [],
   "source": [
    "sc.set_figure_params(dpi=80, dpi_save=300, color_map='viridis', vector_friendly=False, transparent=True)\n",
    "sc.pl.umap(\n",
    "    adata, \n",
    "    color=['leiden_0.3'], \n",
    "    use_raw=False,\n",
    "    palette=user_defined_palette,  \n",
    "    color_map='Spectral_r', \n",
    "    ncols=5,\n",
    "    wspace = 0.1,\n",
    "    outline_width=[0.2, 0.01],\n",
    "    size=30,\n",
    "    frameon=False,\n",
    "    add_outline=False,\n",
    "    sort_order = False,\n",
    "#     save=\"_leiden_03_clusters.pdf\"\n",
    ")"
   ]
  },
  {
   "cell_type": "code",
   "execution_count": null,
   "metadata": {},
   "outputs": [],
   "source": [
    "sc.set_figure_params(dpi=80, dpi_save=300, color_map='viridis', vector_friendly=True, transparent=True)\n",
    "\n",
    "sc.pl.umap(adata[adata.obs['sample']=='dual_CAR_concat'],\n",
    "               color=['sample'],\n",
    "               use_raw=False,\n",
    "               frameon=False, \n",
    "               color_map='Spectral_r',\n",
    "               size=30,\n",
    "               add_outline=False,\n",
    "               wspace = 0.5,\n",
    "               ncols = 4,\n",
    "#            save=\"_dual_CAR.pdf\"\n",
    "              )\n",
    "\n",
    "sc.pl.umap(adata[adata.obs['sample']=='dual_CAR_dual_switch_concat'],\n",
    "               color=['sample'],\n",
    "               use_raw=False,\n",
    "               frameon=False, \n",
    "               color_map='Spectral_r',\n",
    "               size=30,\n",
    "               add_outline=False,\n",
    "               wspace = 0.5,\n",
    "               ncols = 4,\n",
    "#            save=\"_dual_CAR_dual_switch.pdf\"\n",
    "              )\n",
    "\n",
    "sc.pl.umap(adata[adata.obs['sample']=='dual_CAR_triple_switch_concat'],\n",
    "               color=['sample'],\n",
    "               use_raw=False,\n",
    "               frameon=False, \n",
    "               color_map='Spectral_r',\n",
    "               size=30,\n",
    "               add_outline=False,\n",
    "               wspace = 0.5,\n",
    "               ncols = 4,\n",
    "#            save=\"_dual_CAR_triple_switch.pdf\"\n",
    "              )"
   ]
  },
  {
   "cell_type": "code",
   "execution_count": null,
   "metadata": {},
   "outputs": [],
   "source": [
    "sc.set_figure_params(dpi=80, dpi_save=300, color_map='viridis', vector_friendly=False, transparent=True)\n",
    "sc.pl.umap(\n",
    "    adata, \n",
    "    color=['n_genes_by_counts', 'log10_original_total_counts', 'ribo_frac', 'mito_frac', 'hb_frac'], \n",
    "    palette=user_defined_palette,  \n",
    "    color_map='Spectral_r', \n",
    "    use_raw=False,\n",
    "    ncols=5,\n",
    "    wspace = 0.1,\n",
    "    outline_width=[0.6, 0.05],\n",
    "    size=15,\n",
    "    frameon=False,\n",
    "    add_outline=True,\n",
    "    sort_order = False,\n",
    "    vmax=2\n",
    ")"
   ]
  },
  {
   "cell_type": "code",
   "execution_count": null,
   "metadata": {},
   "outputs": [],
   "source": [
    "sc.pl.violin(adata, ['n_genes_by_counts', 'log10_original_total_counts', 'ribo_frac', 'mito_frac', 'hb_frac'],  \n",
    "             palette=user_defined_palette,  jitter=0.4, groupby = 'leiden_0.5', rotation= 90)"
   ]
  },
  {
   "cell_type": "code",
   "execution_count": null,
   "metadata": {},
   "outputs": [],
   "source": [
    "adata.obs"
   ]
  },
  {
   "cell_type": "markdown",
   "metadata": {},
   "source": [
    "# create new anndata for each cell type"
   ]
  },
  {
   "cell_type": "code",
   "execution_count": null,
   "metadata": {},
   "outputs": [],
   "source": [
    "CD4 = adata[adata.obs['leiden_0.4']=='0']\n",
    "CD8 = adata[adata.obs['leiden_0.3']=='1']"
   ]
  },
  {
   "cell_type": "code",
   "execution_count": null,
   "metadata": {},
   "outputs": [],
   "source": [
    "CD4"
   ]
  },
  {
   "cell_type": "code",
   "execution_count": null,
   "metadata": {},
   "outputs": [],
   "source": [
    "CD8"
   ]
  },
  {
   "cell_type": "code",
   "execution_count": null,
   "metadata": {},
   "outputs": [],
   "source": [
    "rng = np.random.RandomState(42)\n",
    "sc.tl.pca(CD4, n_comps=200, svd_solver='arpack', random_state=rng, use_highly_variable=True)"
   ]
  },
  {
   "cell_type": "code",
   "execution_count": null,
   "metadata": {},
   "outputs": [],
   "source": [
    "rng = np.random.RandomState(42)\n",
    "sc.tl.pca(CD8, n_comps=200, svd_solver='arpack', random_state=rng, use_highly_variable=True)"
   ]
  },
  {
   "cell_type": "code",
   "execution_count": null,
   "metadata": {},
   "outputs": [],
   "source": [
    "for resolution_parameter in [0.1, 0.2, 0.3, 0.4, 0.5, 0.6, 0.7, 0.8, 0.9, 1.0]:\n",
    "    sc.tl.leiden(CD4, resolution=resolution_parameter, random_state=42, \n",
    "                        key_added='leiden_'+str(resolution_parameter))"
   ]
  },
  {
   "cell_type": "code",
   "execution_count": null,
   "metadata": {},
   "outputs": [],
   "source": [
    "sc.set_figure_params(dpi=80, dpi_save=300, color_map='viridis', vector_friendly=False, transparent=True)\n",
    "sc.pl.umap(\n",
    "    CD4, \n",
    "    color=['sample','leiden_0.1', 'leiden_0.2', 'leiden_0.3', 'leiden_0.4', 'leiden_0.5', \n",
    "           'leiden_0.6', 'leiden_0.7', 'leiden_0.8', 'leiden_0.9', 'leiden_1.0'], \n",
    "    palette=user_defined_palette,  \n",
    "    color_map='Spectral_r',\n",
    "    use_raw=False,\n",
    "    ncols=4,\n",
    "    wspace = 0.3,\n",
    "    outline_width=[0.6, 0.05],\n",
    "    size=15,\n",
    "    frameon=False,\n",
    "    add_outline=True,\n",
    "    sort_order = False\n",
    ")"
   ]
  },
  {
   "cell_type": "code",
   "execution_count": null,
   "metadata": {},
   "outputs": [],
   "source": [
    "for resolution_parameter in [0.1, 0.2, 0.3, 0.4, 0.5, 0.6, 0.7, 0.8, 0.9, 1.0]:\n",
    "    sc.tl.leiden(CD8, resolution=resolution_parameter, random_state=42, \n",
    "                        key_added='leiden_'+str(resolution_parameter))"
   ]
  },
  {
   "cell_type": "code",
   "execution_count": null,
   "metadata": {},
   "outputs": [],
   "source": [
    "sc.set_figure_params(dpi=80, dpi_save=300, color_map='viridis', vector_friendly=False, transparent=True)\n",
    "sc.pl.umap(\n",
    "    CD8, \n",
    "    color=['sample','leiden_0.1', 'leiden_0.2', 'leiden_0.3', 'leiden_0.4', 'leiden_0.5', \n",
    "           'leiden_0.6', 'leiden_0.7', 'leiden_0.8', 'leiden_0.9', 'leiden_1.0'], \n",
    "    palette=user_defined_palette,  \n",
    "    color_map='Spectral_r',\n",
    "    use_raw=False,\n",
    "    ncols=5,\n",
    "    wspace = 0.3,\n",
    "    outline_width=[0.6, 0.05],\n",
    "    size=15,\n",
    "    frameon=False,\n",
    "    add_outline=True,\n",
    "    sort_order = False\n",
    ")"
   ]
  },
  {
   "cell_type": "code",
   "execution_count": null,
   "metadata": {},
   "outputs": [],
   "source": [
    "CD4_to_h5ad = '../SJ_single_cell_CD4.h5ad'\n"
   ]
  },
  {
   "cell_type": "code",
   "execution_count": null,
   "metadata": {},
   "outputs": [],
   "source": [
    "# CD4.write(CD4_to_h5ad)"
   ]
  },
  {
   "cell_type": "code",
   "execution_count": null,
   "metadata": {},
   "outputs": [],
   "source": [
    "# code to read back your saved h5ad object\n",
    "CD4 = sc.read_h5ad(CD4_to_h5ad)\n",
    "CD4.uns['log1p'][\"base\"] = None"
   ]
  },
  {
   "cell_type": "code",
   "execution_count": null,
   "metadata": {},
   "outputs": [],
   "source": [
    "CD8_to_h5ad = '../SJ_single_cell_CD8.h5ad'\n"
   ]
  },
  {
   "cell_type": "code",
   "execution_count": null,
   "metadata": {},
   "outputs": [],
   "source": [
    "# CD8.write(CD8_to_h5ad)"
   ]
  },
  {
   "cell_type": "code",
   "execution_count": null,
   "metadata": {},
   "outputs": [],
   "source": [
    "# code to read back your saved h5ad object\n",
    "CD8 = sc.read_h5ad(CD8_to_h5ad)\n",
    "CD8.uns['log1p'][\"base\"] = None"
   ]
  },
  {
   "cell_type": "code",
   "execution_count": null,
   "metadata": {},
   "outputs": [],
   "source": [
    "#create new anndata containing just 2 of 3 different groups\n",
    "adata_dual_CAR_and_dual_CAR_dual_switch = adata[(adata.obs['sample']=='dual_CAR_concat') |\n",
    "                                          (adata.obs['sample']=='dual_CAR_dual_switch_concat')]\n",
    "                                    \n",
    "\n",
    "adata_dual_CAR_and_dual_CAR_triple_switch = adata[(adata.obs['sample']=='dual_CAR_concat') |\n",
    "                                          (adata.obs['sample']=='dual_CAR_triple_switch_concat')]\n",
    "\n",
    "adata_dual_switch_and_triple_switch = adata[(adata.obs['sample']=='dual_CAR_dual_switch_concat') |\n",
    "                                          (adata.obs['sample']=='dual_CAR_triple_switch_concat')]"
   ]
  },
  {
   "cell_type": "code",
   "execution_count": null,
   "metadata": {},
   "outputs": [],
   "source": [
    "#create new anndata containing just 2 of 3 different groups\n",
    "CD8_dual_CAR_and_dual_CAR_dual_switch = CD8[(CD8.obs['sample']=='dual_CAR_concat') |\n",
    "                                          (CD8.obs['sample']=='dual_CAR_dual_switch_concat')]\n",
    "                                    \n",
    "\n",
    "CD8_dual_CAR_and_dual_CAR_triple_switch = CD8[(CD8.obs['sample']=='dual_CAR_concat') |\n",
    "                                          (CD8.obs['sample']=='dual_CAR_triple_switch_concat')]\n",
    "\n",
    "CD8_dual_switch_and_triple_switch = CD8[(CD8.obs['sample']=='dual_CAR_dual_switch_concat') |\n",
    "                                          (CD8.obs['sample']=='dual_CAR_triple_switch_concat')]"
   ]
  },
  {
   "cell_type": "code",
   "execution_count": null,
   "metadata": {},
   "outputs": [],
   "source": [
    "#create new anndata containing just 2 of 3 different groups\n",
    "CD4_dual_CAR_and_dual_CAR_dual_switch = CD4[(CD4.obs['sample']=='dual_CAR_concat') |\n",
    "                                          (CD4.obs['sample']=='dual_CAR_dual_switch_concat')]\n",
    "                                    \n",
    "\n",
    "CD4_dual_CAR_and_dual_CAR_triple_switch = CD4[(CD4.obs['sample']=='dual_CAR_concat') |\n",
    "                                          (CD4.obs['sample']=='dual_CAR_triple_switch_concat')]\n",
    "\n",
    "CD4_dual_switch_and_triple_switch = CD4[(CD4.obs['sample']=='dual_CAR_dual_switch_concat') |\n",
    "                                          (CD4.obs['sample']=='dual_CAR_triple_switch_concat')]"
   ]
  },
  {
   "cell_type": "markdown",
   "metadata": {},
   "source": [
    "# running wilcoxon gene ranking for each cell type"
   ]
  },
  {
   "cell_type": "code",
   "execution_count": null,
   "metadata": {},
   "outputs": [],
   "source": [
    "writer = pd.ExcelWriter('../SJ_allcells_wilcoxon_dual_switch_vs_triple_switch.xlsx', engine='xlsxwriter')\n",
    "\n",
    "sc.tl.rank_genes_groups(adata_dual_switch_and_triple_switch, 'sample', method='wilcoxon', use_raw=False)\n",
    "result = adata_dual_switch_and_triple_switch.uns['rank_genes_groups']\n",
    "groups = result['names'].dtype.names\n",
    "pd.DataFrame(\n",
    "    {group + '_' + key[:1]: result[key][group]\n",
    "    for group in groups for key in ['names', 'scores', 'logfoldchanges', 'pvals_adj']}).to_excel(writer, sheet_name='Sheet1')\n",
    "        \n",
    "writer.close()"
   ]
  },
  {
   "cell_type": "code",
   "execution_count": null,
   "metadata": {},
   "outputs": [],
   "source": [
    "writer = pd.ExcelWriter('../CD4_dual_switch_vs_triple_switch_wilcoxon.xlsx', engine='xlsxwriter')\n",
    "\n",
    "sc.tl.rank_genes_groups(CD4_dual_switch_and_triple_switch, 'sample', method='wilcoxon', use_raw=False)\n",
    "result = CD4_dual_switch_and_triple_switch.uns['rank_genes_groups']\n",
    "groups = result['names'].dtype.names\n",
    "pd.DataFrame(\n",
    "    {group + '_' + key[:1]: result[key][group]\n",
    "    for group in groups for key in ['names', 'scores', 'logfoldchanges', 'pvals_adj']}).to_excel(writer, sheet_name='Sheet1')\n",
    "        \n",
    "# writer.close()\n"
   ]
  },
  {
   "cell_type": "code",
   "execution_count": null,
   "metadata": {},
   "outputs": [],
   "source": [
    "writer = pd.ExcelWriter('../CD8_dual_switch_vs_triple_switch_wilcoxon.xlsx', engine='xlsxwriter')\n",
    "\n",
    "sc.tl.rank_genes_groups(CD8_dual_switch_and_triple_switch, 'sample', method='wilcoxon', use_raw=False)\n",
    "result = CD8_dual_switch_and_triple_switch.uns['rank_genes_groups']\n",
    "groups = result['names'].dtype.names\n",
    "pd.DataFrame(\n",
    "    {group + '_' + key[:1]: result[key][group]\n",
    "    for group in groups for key in ['names', 'scores', 'logfoldchanges', 'pvals_adj']}).to_excel(writer, sheet_name='Sheet1')\n",
    "        \n",
    "# writer.close()"
   ]
  },
  {
   "cell_type": "markdown",
   "metadata": {},
   "source": [
    "## GSEApy"
   ]
  },
  {
   "cell_type": "code",
   "execution_count": null,
   "metadata": {},
   "outputs": [],
   "source": [
    "import gseapy\n",
    "from gseapy import gseaplot"
   ]
  },
  {
   "cell_type": "code",
   "execution_count": null,
   "metadata": {},
   "outputs": [],
   "source": [
    "df = pd.read_excel('../CD8_dual_CAR_vs_triple_switch.xlsx',\n",
    "#                  sep='\\t',\n",
    "                   header=0)\n"
   ]
  },
  {
   "cell_type": "code",
   "execution_count": null,
   "metadata": {},
   "outputs": [],
   "source": [
    "df.head(200)"
   ]
  },
  {
   "cell_type": "code",
   "execution_count": null,
   "metadata": {},
   "outputs": [],
   "source": [
    "GSEA_hallmark_CD8_dualCAR_vs_tripleswitch = gseapy.prerank(df, seed = 42,\n",
    "                                gene_sets=\"../mh.all.v2023.2.Mm.symbols.gmt\")\n"
   ]
  },
  {
   "cell_type": "code",
   "execution_count": null,
   "metadata": {},
   "outputs": [],
   "source": [
    "GSEA_hallmark_CD8_dualCAR_vs_tripleswitch"
   ]
  },
  {
   "cell_type": "code",
   "execution_count": null,
   "metadata": {},
   "outputs": [],
   "source": [
    "GSEA_hallmark_CD8_dualCAR_vs_tripleswitch_1 = GSEA_hallmark_CD8_dualCAR_vs_tripleswitch"
   ]
  },
  {
   "cell_type": "code",
   "execution_count": null,
   "metadata": {},
   "outputs": [],
   "source": [
    "GSEA_hallmark_CD8_dualCAR_vs_tripleswitch.res2d.head(100)"
   ]
  },
  {
   "cell_type": "code",
   "execution_count": null,
   "metadata": {},
   "outputs": [],
   "source": [
    "GSEA_hallmark_CD8_dualCAR_vs_tripleswitch_1_sorted = GSEA_hallmark_CD8_dualCAR_vs_tripleswitch_1.res2d.sort_values('FDR q-val', ascending = True).reset_index(drop = True)\n"
   ]
  },
  {
   "cell_type": "code",
   "execution_count": null,
   "metadata": {},
   "outputs": [],
   "source": [
    "GSEA_hallmark_CD8_dualCAR_vs_tripleswitch_1_sorted.head(200)"
   ]
  },
  {
   "cell_type": "code",
   "execution_count": null,
   "metadata": {},
   "outputs": [],
   "source": [
    "GSEA_hallmark_CD8_dualCAR_vs_tripleswitch_path = \"../GSEA_hallmark_CD8_dualCAR_vs_tripleswitch.csv\"\n",
    "GSEA_hallmark_CD8_dualCAR_vs_tripleswitch.res2d.to_csv(GSEA_hallmark_CD8_dualCAR_vs_tripleswitch_path)\n"
   ]
  },
  {
   "cell_type": "code",
   "execution_count": null,
   "metadata": {},
   "outputs": [],
   "source": [
    "GSEA_hallmark_CD4_dualCAR_vs_tripleswitch.res2d"
   ]
  },
  {
   "cell_type": "code",
   "execution_count": null,
   "metadata": {},
   "outputs": [],
   "source": [
    "terms = GSEA_hallmark_CD4_dualCAR_vs_tripleswitch.res2d.Term\n",
    "\n",
    "axs = GSEA_hallmark_CD4_dualCAR_vs_tripleswitch.plot(terms=terms[7]) # v1.0.5"
   ]
  },
  {
   "cell_type": "code",
   "execution_count": null,
   "metadata": {},
   "outputs": [],
   "source": [
    "axs = GSEA_hallmark_CD4_dualCAR_vs_tripleswitch.plot(terms=[terms[7], terms[10]],\n",
    "                   #legend_kws={'loc': (1.2, 0)}, # set the legend loc\n",
    "                   show_ranking=True, # whether to show the second yaxis\n",
    "                   figsize=(3,4))\n",
    "axs.savefig(\"GSEA_hallmark_CD4_dualCAR_vs_tripleswitch_ifn_alpha_gamma.pdf\", bbox_inches = 'tight')"
   ]
  },
  {
   "cell_type": "markdown",
   "metadata": {},
   "source": [
    "# heatmaps"
   ]
  },
  {
   "cell_type": "code",
   "execution_count": null,
   "metadata": {},
   "outputs": [],
   "source": [
    "T_cell_genes_cleaned"
   ]
  },
  {
   "cell_type": "code",
   "execution_count": null,
   "metadata": {},
   "outputs": [],
   "source": [
    "sc.set_figure_params(scanpy=True, fontsize=1, dpi_save=300)\n",
    "SJ_all_cells_heatmap = sc.pl.matrixplot(adata, KEGG_NFkB_cleaned,\n",
    "                                     groupby='sample',\n",
    "                                     figsize=(3, 12),\n",
    "                                     cmap='coolwarm', \n",
    "                                    standard_scale='var',\n",
    "                                     use_raw=False,\n",
    "                                     dendrogram=False,\n",
    "                                      swap_axes=True,\n",
    "#                                        save=\"SJ_all_cells_top_genes_heatmap.pdf\"\n",
    "                                       )"
   ]
  },
  {
   "cell_type": "code",
   "execution_count": null,
   "metadata": {},
   "outputs": [],
   "source": [
    "CD4_heatmap_genes_df = pd.read_csv('../CD4 heat map gene search strings v1.6 separated plots rearranged.txt', header=0, sep='\\t')\n"
   ]
  },
  {
   "cell_type": "code",
   "execution_count": null,
   "metadata": {},
   "outputs": [],
   "source": [
    "CD4_heatmap_genes_df"
   ]
  },
  {
   "cell_type": "code",
   "execution_count": null,
   "metadata": {},
   "outputs": [],
   "source": [
    "CD4_survival_function_genes = CD4_heatmap_genes_df.iloc[0:55, 0]"
   ]
  },
  {
   "cell_type": "code",
   "execution_count": null,
   "metadata": {},
   "outputs": [],
   "source": [
    "CD4_survival_function_genes"
   ]
  },
  {
   "cell_type": "code",
   "execution_count": null,
   "metadata": {},
   "outputs": [],
   "source": [
    "CD4_survival_function_genes = CD4_survival_function_genes.values.tolist()"
   ]
  },
  {
   "cell_type": "code",
   "execution_count": null,
   "metadata": {},
   "outputs": [],
   "source": [
    "CD4_survival_function_genes"
   ]
  },
  {
   "cell_type": "code",
   "execution_count": null,
   "metadata": {},
   "outputs": [],
   "source": [
    "sc.set_figure_params(scanpy=True, fontsize=4, vector_friendly=True, dpi_save=300)\n",
    "SJ_CD4_heatmap = sc.pl.matrixplot(CD4, CD4_survival_function_genes,\n",
    "                                     groupby='sample',\n",
    "                                     figsize=(3, 8),\n",
    "                                     cmap='coolwarm', \n",
    "                                    standard_scale='var',\n",
    "                                     use_raw=False,\n",
    "                                     dendrogram=False,\n",
    "                                      swap_axes=True,\n",
    "                                  vmax=1,\n",
    "#                                        save=\"_heatmap_SJ_CD4_survival_function_rearranged.pdf\"\n",
    "                                       )"
   ]
  },
  {
   "cell_type": "code",
   "execution_count": null,
   "metadata": {},
   "outputs": [],
   "source": [
    "CD8_heatmap_genes_df = pd.read_csv('../CD8 heat map gene search strings v1.8 separated plots rearranged.txt', header=0, sep='\\t')\n"
   ]
  },
  {
   "cell_type": "code",
   "execution_count": null,
   "metadata": {},
   "outputs": [],
   "source": [
    "CD8_heatmap_genes_df"
   ]
  },
  {
   "cell_type": "code",
   "execution_count": null,
   "metadata": {},
   "outputs": [],
   "source": [
    "CD8_survival_function_genes = CD8_heatmap_genes_df.iloc[0:57, 0]"
   ]
  },
  {
   "cell_type": "code",
   "execution_count": null,
   "metadata": {},
   "outputs": [],
   "source": [
    "CD8_survival_function_genes"
   ]
  },
  {
   "cell_type": "code",
   "execution_count": null,
   "metadata": {},
   "outputs": [],
   "source": [
    "# CD4_heatmap_genes = CD4_heatmap_genes.drop(range(91,108))"
   ]
  },
  {
   "cell_type": "code",
   "execution_count": null,
   "metadata": {},
   "outputs": [],
   "source": [
    "CD8_survival_function_genes = CD8_survival_function_genes.values.tolist()"
   ]
  },
  {
   "cell_type": "code",
   "execution_count": null,
   "metadata": {},
   "outputs": [],
   "source": [
    "CD8_survival_function_genes"
   ]
  },
  {
   "cell_type": "code",
   "execution_count": null,
   "metadata": {},
   "outputs": [],
   "source": [
    "sc.set_figure_params(scanpy=True, fontsize=4, dpi_save=300)\n",
    "SJ_CD8_heatmap = sc.pl.matrixplot(CD8, CD8_survival_function_genes,\n",
    "                                     groupby='sample',\n",
    "                                     figsize=(3, 8.5),\n",
    "                                     cmap='coolwarm', \n",
    "                                    standard_scale='var',\n",
    "                                     use_raw=False,\n",
    "                                     dendrogram=False,\n",
    "                                      swap_axes=True,\n",
    "#                                        save=\"heatmap_SJ_CD8_survival_function_rearranged.pdf\"\n",
    "                                       )"
   ]
  },
  {
   "cell_type": "code",
   "execution_count": null,
   "metadata": {},
   "outputs": [],
   "source": [
    "sc.set_figure_params(scanpy=True, vector_friendly=True, fontsize=10, dpi_save=300)\n",
    "SJ_CD8_heatmap = sc.pl.matrixplot(CD8, ['Pdcd1', 'Cd200r1', 'Fas'],\n",
    "                                     groupby='sample',\n",
    "                                     figsize=(3, 0.5),\n",
    "                                     cmap='coolwarm', \n",
    "                                    standard_scale='var',\n",
    "                                     use_raw=False,\n",
    "                                     dendrogram=False,\n",
    "                                      swap_axes=True,\n",
    "                                  vmax=0.3,\n",
    "#                                        save=\"heatmap_SJ_CD8_switch_receptors_flattened.pdf\"\n",
    "                                       )\n",
    "\n",
    "SJ_CD4_heatmap = sc.pl.matrixplot(CD4, ['Pdcd1', 'Cd200r1', 'Fas'],\n",
    "                                     groupby='sample',\n",
    "                                     figsize=(3, 0.5),\n",
    "                                     cmap='coolwarm', \n",
    "                                    standard_scale='var',\n",
    "                                     use_raw=False,\n",
    "                                     dendrogram=False,\n",
    "                                      swap_axes=True,\n",
    "                                  vmax=0.3,\n",
    "#                                        save=\"heatmap_SJ_CD4_switch_receptors_flattened.pdf\"\n",
    "                                       )"
   ]
  },
  {
   "cell_type": "code",
   "execution_count": null,
   "metadata": {},
   "outputs": [],
   "source": [
    "ER_stress_genes_df = pd.read_excel(\"../ER stress short v1.1 for Brandon.xlsx\", header=0)\n"
   ]
  },
  {
   "cell_type": "code",
   "execution_count": null,
   "metadata": {},
   "outputs": [],
   "source": [
    "ER_stress_genes_df"
   ]
  },
  {
   "cell_type": "code",
   "execution_count": null,
   "metadata": {},
   "outputs": [],
   "source": [
    "ER_stress_genes = ER_stress_genes_df.iloc[:, 0]"
   ]
  },
  {
   "cell_type": "code",
   "execution_count": null,
   "metadata": {},
   "outputs": [],
   "source": [
    "ER_stress_genes"
   ]
  },
  {
   "cell_type": "code",
   "execution_count": null,
   "metadata": {},
   "outputs": [],
   "source": [
    "ER_stress_genes = ER_stress_genes.values.tolist()"
   ]
  },
  {
   "cell_type": "code",
   "execution_count": null,
   "metadata": {},
   "outputs": [],
   "source": [
    "ER_stress_genes"
   ]
  },
  {
   "cell_type": "code",
   "execution_count": null,
   "metadata": {},
   "outputs": [],
   "source": [
    "# ER_stress_genes = [i[0] for i in ER_stress_genes]"
   ]
  },
  {
   "cell_type": "code",
   "execution_count": null,
   "metadata": {},
   "outputs": [],
   "source": [
    "sc.set_figure_params(dpi=80, vector_friendly=True)\n",
    "SJ_heatmap_CD4 = sc.pl.matrixplot(CD4, ER_stress_genes,\n",
    "                                     groupby='sample',\n",
    "                                     figsize=(3, 1.9),\n",
    "                                     cmap='coolwarm', \n",
    "                                    standard_scale='var',\n",
    "                                     use_raw=False,\n",
    "                                     dendrogram=False,\n",
    "                                      swap_axes=True,\n",
    "                                  vmax=1,\n",
    "#                                        save=\"heatmap_SJ_CD4_ER_stress_reducedlist_20231229.pdf\"\n",
    "                                       )\n",
    "\n",
    "SJ_heatmap_CD8 = sc.pl.matrixplot(CD8, ER_stress_genes,\n",
    "                                     groupby='sample',\n",
    "                                     figsize=(3, 1.9),\n",
    "                                     cmap='coolwarm', \n",
    "                                    standard_scale='var',\n",
    "                                     use_raw=False,\n",
    "                                     dendrogram=False,\n",
    "                                      swap_axes=True,\n",
    "                                  vmax=1,\n",
    "#                                        save=\"heatmap_SJ_CD8_ER_stress_reducedlist_20231229.pdf\"\n",
    "                                       )"
   ]
  },
  {
   "cell_type": "markdown",
   "metadata": {},
   "source": [
    "# gene scores\n",
    "### using scanpy.tl.score_genes"
   ]
  },
  {
   "cell_type": "code",
   "execution_count": null,
   "metadata": {},
   "outputs": [],
   "source": [
    "ER_stress_df =  pd.read_csv('../GOBP_RESPONSE_TO_ENDOPLASMIC_RETICULUM_STRESS.v2023.2.Mm.gmt', header=None, sep=\"\\t\")\n"
   ]
  },
  {
   "cell_type": "code",
   "execution_count": null,
   "metadata": {},
   "outputs": [],
   "source": [
    "ER_stress_df"
   ]
  },
  {
   "cell_type": "code",
   "execution_count": null,
   "metadata": {},
   "outputs": [],
   "source": [
    "ER_stress_genes = ER_stress_df.values.tolist()"
   ]
  },
  {
   "cell_type": "code",
   "execution_count": null,
   "metadata": {},
   "outputs": [],
   "source": [
    "ER_stress_genes"
   ]
  },
  {
   "cell_type": "code",
   "execution_count": null,
   "metadata": {},
   "outputs": [],
   "source": [
    "ER_stress_genes = [i[0] for i in ER_stress_genes]"
   ]
  },
  {
   "cell_type": "code",
   "execution_count": null,
   "metadata": {},
   "outputs": [],
   "source": [
    "ER_stress_genes"
   ]
  },
  {
   "cell_type": "code",
   "execution_count": null,
   "metadata": {},
   "outputs": [],
   "source": [
    "sc.tl.score_genes(CD8, gene_list = ER_stress_genes,  score_name='ER_stress_score', use_raw=False)\n"
   ]
  },
  {
   "cell_type": "code",
   "execution_count": null,
   "metadata": {},
   "outputs": [],
   "source": [
    "ER_stress_score = CD8.obs[['sample', 'ER_stress_score']].copy()\n"
   ]
  },
  {
   "cell_type": "markdown",
   "metadata": {},
   "source": [
    "<a id='magic'></a>"
   ]
  },
  {
   "cell_type": "markdown",
   "metadata": {},
   "source": [
    "# Denoise and impute genes with magic"
   ]
  },
  {
   "cell_type": "markdown",
   "metadata": {},
   "source": [
    "The magic package can be used to impute the expression of genes in our data. This is advised for genes that are lowly expressed (e.g. transcription factors) and are more prone to dropouts. Please follow the instructions here (https://github.com/dpeerlab/magic) to install magic before running the section below. "
   ]
  },
  {
   "cell_type": "code",
   "execution_count": null,
   "metadata": {},
   "outputs": [],
   "source": [
    "import magic\n",
    "import scprep"
   ]
  },
  {
   "cell_type": "markdown",
   "metadata": {},
   "source": [
    "Run the code below to set up magic before you use it."
   ]
  },
  {
   "cell_type": "code",
   "execution_count": null,
   "metadata": {},
   "outputs": [],
   "source": [
    "magic_op = magic.MAGIC()"
   ]
  },
  {
   "cell_type": "code",
   "execution_count": null,
   "metadata": {},
   "outputs": [],
   "source": [
    "magic_op.set_params(knn=5, t=4)"
   ]
  },
  {
   "cell_type": "markdown",
   "metadata": {},
   "source": [
    "As before, we create a list of genes to impute. Choosing all genes is an option, but it will be very time consuming.\n"
   ]
  },
  {
   "cell_type": "code",
   "execution_count": null,
   "metadata": {},
   "outputs": [],
   "source": [
    "SJ_magic_exh_genes = ['Lag3', 'Havcr2', 'Ctla4', 'Cd160', 'Entpd1', 'Pdcd1', 'Cd200r4', \n",
    "              'Tbx21', 'Tox', 'Tox2', 'Nfatc1', 'Nfatc2', 'Nfat5', 'Nr4a1', \n",
    "              'Nr4a2', 'Nr4a3', 'Crem', 'Irf4', 'Il10', 'Il2']\n",
    "\n",
    "SJ_magic_exh_genes_2 = ['Lag3', 'Havcr2', 'Ctla4', 'Cd160', 'Entpd1', 'Cd200r4', 'Il10',\n",
    "                        'Il2', 'Il21', 'Mt1', 'Mt2', 'Pglyrp1', 'Tbx21', 'Tox', 'Nfatc1',\n",
    "                        'Nfat5', 'Prdm1', 'Crem', 'Zeb2']"
   ]
  },
  {
   "cell_type": "markdown",
   "metadata": {},
   "source": [
    "❗ We choose to store the imputed values in a new anndata object named `adata_magic`. We do that because the imputation will transform the gene expression values of our data and we don't want to carry along the transformed values in the next parts of our analysis."
   ]
  },
  {
   "cell_type": "code",
   "execution_count": null,
   "metadata": {},
   "outputs": [],
   "source": [
    "CD8_magic_all_genes = magic_op.fit_transform(CD8, genes=\"all_genes\")"
   ]
  },
  {
   "cell_type": "markdown",
   "metadata": {},
   "source": [
    "⏳ May take quite some time to complete if you have selected `\"all_genes\"` as the `genes` parameter."
   ]
  },
  {
   "cell_type": "markdown",
   "metadata": {},
   "source": [
    "For completeness, we tranfer group colors annotation to the new `adata_magic` object."
   ]
  },
  {
   "cell_type": "code",
   "execution_count": null,
   "metadata": {},
   "outputs": [],
   "source": [
    "CD4_magic_all_genes.uns['sample_colors'] = CD4.uns['sample_colors']\n",
    "CD8_magic_all_genes.uns['sample_colors'] = CD8.uns['sample_colors']"
   ]
  },
  {
   "cell_type": "markdown",
   "metadata": {},
   "source": [
    "### Visualize magic imputed data in a scatterplot"
   ]
  },
  {
   "cell_type": "markdown",
   "metadata": {},
   "source": [
    "Scanpy's `sc.pl.scatter` function can be used here to show the correlation between two imputed genes. It can also show an additional coloring parameter, may it be a grouping factor or gene expression of an imputed gene. Check scanpy's scatter man page here (https://scanpy.readthedocs.io/en/latest/generated/scanpy.pl.scatter.html#scanpy-pl-scatter) for a list of parameters and types of input."
   ]
  },
  {
   "cell_type": "code",
   "execution_count": null,
   "metadata": {},
   "outputs": [],
   "source": [
    "fig, (ax1, ax2) = plt.subplots(1, 2, figsize=(12,4), gridspec_kw={'wspace':0.9})\n",
    "    \n",
    "sc.pl.scatter(CD4, x='Havcr2', y='Lag3',color='sample', palette=CD4.uns['sample_colors'], projection='2d', alpha=0.7, size=50, title = 'Before magic imputation', ax=ax1, show=False)\n",
    "sc.pl.scatter(CD4_magic, x='Havcr2', y='Lag3',color='sample', palette=CD4_magic.uns['sample_colors'], projection='2d', alpha=0.7, size=50, title = 'After magic imputation', ax=ax2, show=False)\n"
   ]
  },
  {
   "cell_type": "code",
   "execution_count": null,
   "metadata": {},
   "outputs": [],
   "source": [
    "sc.set_figure_params(dpi=300, vector_friendly=True)\n",
    "sc.pl.violin(CD8_magic_all_genes, ['Lag3', 'Havcr2', 'Ctla4', 'Entpd1'],\n",
    "             groupby='sample', rotation=90, use_raw=False,\n",
    "#              save='CD8_magic_Lag3_Havcr2_Ctla4_Entpd1.pdf'\n",
    "            )\n",
    " \n",
    "sc.pl.violin(CD8_magic_all_genes, ['Il10', 'Il2', 'Nfatc1', 'Tbx21'],\n",
    "             groupby='sample', rotation=90, use_raw=False,\n",
    "#              save='CD8_magic_Il10_Il2_Nfatc1_Tbx21.pdf'\n",
    "            )\n",
    "\n",
    "sc.pl.violin(CD4_magic_all_genes, ['Lag3', 'Havcr2', 'Clta4', 'Entpd1', 'Il10',],\n",
    "             groupby='sample', rotation=90, use_raw=False,\n",
    "#              save=save='CD4_magic_Lag3_Havcr2_Ctla4_Entpd1_Il10.pdf'\n",
    "            )\n",
    "\n",
    "sc.pl.violin(CD4_magic_all_genes, ['Il2', 'Nfatc1', 'Prdm1', 'Tox', 'Tbx21'],\n",
    "             groupby='sample', rotation=90, use_raw=False,\n",
    "#              save='CD4_magic_Il2_Nfatc1_Prdm1_Tox_Tbx21.pdf'\n",
    "            )"
   ]
  },
  {
   "cell_type": "code",
   "execution_count": null,
   "metadata": {},
   "outputs": [],
   "source": [
    "CD8_magic_all_genes_to_h5ad = '../CD8_magic_all_genes.h5ad'\n"
   ]
  },
  {
   "cell_type": "code",
   "execution_count": null,
   "metadata": {},
   "outputs": [],
   "source": [
    "# CD8_magic_all_genes.write(CD8_magic_all_genes_to_h5ad)"
   ]
  },
  {
   "cell_type": "code",
   "execution_count": null,
   "metadata": {},
   "outputs": [],
   "source": [
    "# code to read back your saved h5ad object\n",
    "CD8_magic_all_genes = sc.read_h5ad(CD8_magic_all_genes_to_h5ad)\n",
    "# adata_magic.uns['log1p'][\"base\"] = None"
   ]
  },
  {
   "cell_type": "code",
   "execution_count": null,
   "metadata": {},
   "outputs": [],
   "source": [
    "CD4_magic_all_genes_to_h5ad = '../CD4_magic_all_genes.h5ad'\n"
   ]
  },
  {
   "cell_type": "code",
   "execution_count": null,
   "metadata": {},
   "outputs": [],
   "source": [
    "# CD4_magic_all_genes.write(CD8_magic_all_genes_to_h5ad)"
   ]
  },
  {
   "cell_type": "code",
   "execution_count": null,
   "metadata": {},
   "outputs": [],
   "source": [
    "# code to read back your saved h5ad object\n",
    "CD4_magic_all_genes = sc.read_h5ad(CD4_magic_all_genes_to_h5ad)\n",
    "# adata_magic.uns['log1p'][\"base\"] = None"
   ]
  },
  {
   "cell_type": "markdown",
   "metadata": {},
   "source": [
    "Return to the beginning of this notebook <a href='#contents'>here</a>."
   ]
  },
  {
   "cell_type": "markdown",
   "metadata": {},
   "source": [
    "<a id='DEA'></a>"
   ]
  },
  {
   "cell_type": "markdown",
   "metadata": {},
   "source": [
    "<a id='systemlog'></a>"
   ]
  },
  {
   "cell_type": "markdown",
   "metadata": {},
   "source": [
    "## System log"
   ]
  },
  {
   "cell_type": "markdown",
   "metadata": {},
   "source": [
    "Date, time stamps, version numbers, and hardware information for version control."
   ]
  },
  {
   "cell_type": "code",
   "execution_count": null,
   "metadata": {},
   "outputs": [],
   "source": [
    "%load_ext watermark"
   ]
  },
  {
   "cell_type": "code",
   "execution_count": null,
   "metadata": {},
   "outputs": [],
   "source": [
    "%watermark"
   ]
  }
 ],
 "metadata": {
  "kernelspec": {
   "display_name": "Python 3 (ipykernel)",
   "language": "python",
   "name": "python3"
  },
  "language_info": {
   "codemirror_mode": {
    "name": "ipython",
    "version": 3
   },
   "file_extension": ".py",
   "mimetype": "text/x-python",
   "name": "python",
   "nbconvert_exporter": "python",
   "pygments_lexer": "ipython3",
   "version": "3.11.9"
  },
  "toc": {
   "base_numbering": 1,
   "nav_menu": {},
   "number_sections": true,
   "sideBar": true,
   "skip_h1_title": true,
   "title_cell": "Table of Contents",
   "title_sidebar": "Contents",
   "toc_cell": false,
   "toc_position": {
    "height": "641px",
    "left": "335px",
    "top": "162px",
    "width": "283px"
   },
   "toc_section_display": true,
   "toc_window_display": true
  }
 },
 "nbformat": 4,
 "nbformat_minor": 4
}
